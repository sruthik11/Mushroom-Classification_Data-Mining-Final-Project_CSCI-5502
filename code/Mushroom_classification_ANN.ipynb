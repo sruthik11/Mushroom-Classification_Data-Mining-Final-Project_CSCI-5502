{
  "nbformat": 4,
  "nbformat_minor": 0,
  "metadata": {
    "colab": {
      "provenance": []
    },
    "kernelspec": {
      "name": "python3",
      "display_name": "Python 3"
    },
    "language_info": {
      "name": "python"
    }
  },
  "cells": [
    {
      "cell_type": "code",
      "execution_count": 1,
      "metadata": {
        "id": "JPf9ojUsoCcj"
      },
      "outputs": [],
      "source": [
        "import matplotlib.pyplot as plt\n",
        "import plotly.graph_objects as go\n",
        "import plotly.figure_factory as ff\n",
        "import pandas as pd\n",
        "import numpy as np\n",
        "import seaborn as sns"
      ]
    },
    {
      "cell_type": "code",
      "source": [
        "#1. Check if GPU is enabled\n",
        "import tensorflow as tf\n",
        "tf.test.gpu_device_name()"
      ],
      "metadata": {
        "colab": {
          "base_uri": "https://localhost:8080/",
          "height": 35
        },
        "id": "3E3uBykPoRk6",
        "outputId": "bf6d0337-ccd2-4456-c82e-d139a1ca03e9"
      },
      "execution_count": 2,
      "outputs": [
        {
          "output_type": "execute_result",
          "data": {
            "text/plain": [
              "''"
            ],
            "application/vnd.google.colaboratory.intrinsic+json": {
              "type": "string"
            }
          },
          "metadata": {},
          "execution_count": 2
        }
      ]
    },
    {
      "cell_type": "code",
      "source": [
        "mushrooms = pd.read_csv('data/mushrooms.csv', encoding = \"ISO-8859-1\")"
      ],
      "metadata": {
        "id": "SPhcmhrho3oA"
      },
      "execution_count": 3,
      "outputs": []
    },
    {
      "cell_type": "code",
      "source": [
        "mushrooms.head()"
      ],
      "metadata": {
        "colab": {
          "base_uri": "https://localhost:8080/",
          "height": 352
        },
        "id": "xrlxKpchpIrF",
        "outputId": "f416f893-a28a-4973-d7b0-ab9e089a4e2c"
      },
      "execution_count": 4,
      "outputs": [
        {
          "output_type": "execute_result",
          "data": {
            "text/plain": [
              "  class cap-shape cap-surface cap-color bruises odor gill-attachment  \\\n",
              "0     p         x           s         n       t    p               f   \n",
              "1     e         x           s         y       t    a               f   \n",
              "2     e         b           s         w       t    l               f   \n",
              "3     p         x           y         w       t    p               f   \n",
              "4     e         x           s         g       f    n               f   \n",
              "\n",
              "  gill-spacing gill-size gill-color  ... stalk-surface-below-ring  \\\n",
              "0            c         n          k  ...                        s   \n",
              "1            c         b          k  ...                        s   \n",
              "2            c         b          n  ...                        s   \n",
              "3            c         n          n  ...                        s   \n",
              "4            w         b          k  ...                        s   \n",
              "\n",
              "  stalk-color-above-ring stalk-color-below-ring veil-type veil-color  \\\n",
              "0                      w                      w         p          w   \n",
              "1                      w                      w         p          w   \n",
              "2                      w                      w         p          w   \n",
              "3                      w                      w         p          w   \n",
              "4                      w                      w         p          w   \n",
              "\n",
              "  ring-number ring-type spore-print-color population habitat  \n",
              "0           o         p                 k          s       u  \n",
              "1           o         p                 n          n       g  \n",
              "2           o         p                 n          n       m  \n",
              "3           o         p                 k          s       u  \n",
              "4           o         e                 n          a       g  \n",
              "\n",
              "[5 rows x 23 columns]"
            ],
            "text/html": [
              "\n",
              "\n",
              "  <div id=\"df-89feb00f-e78f-4447-938f-b6fc8ef8e58a\">\n",
              "    <div class=\"colab-df-container\">\n",
              "      <div>\n",
              "<style scoped>\n",
              "    .dataframe tbody tr th:only-of-type {\n",
              "        vertical-align: middle;\n",
              "    }\n",
              "\n",
              "    .dataframe tbody tr th {\n",
              "        vertical-align: top;\n",
              "    }\n",
              "\n",
              "    .dataframe thead th {\n",
              "        text-align: right;\n",
              "    }\n",
              "</style>\n",
              "<table border=\"1\" class=\"dataframe\">\n",
              "  <thead>\n",
              "    <tr style=\"text-align: right;\">\n",
              "      <th></th>\n",
              "      <th>class</th>\n",
              "      <th>cap-shape</th>\n",
              "      <th>cap-surface</th>\n",
              "      <th>cap-color</th>\n",
              "      <th>bruises</th>\n",
              "      <th>odor</th>\n",
              "      <th>gill-attachment</th>\n",
              "      <th>gill-spacing</th>\n",
              "      <th>gill-size</th>\n",
              "      <th>gill-color</th>\n",
              "      <th>...</th>\n",
              "      <th>stalk-surface-below-ring</th>\n",
              "      <th>stalk-color-above-ring</th>\n",
              "      <th>stalk-color-below-ring</th>\n",
              "      <th>veil-type</th>\n",
              "      <th>veil-color</th>\n",
              "      <th>ring-number</th>\n",
              "      <th>ring-type</th>\n",
              "      <th>spore-print-color</th>\n",
              "      <th>population</th>\n",
              "      <th>habitat</th>\n",
              "    </tr>\n",
              "  </thead>\n",
              "  <tbody>\n",
              "    <tr>\n",
              "      <th>0</th>\n",
              "      <td>p</td>\n",
              "      <td>x</td>\n",
              "      <td>s</td>\n",
              "      <td>n</td>\n",
              "      <td>t</td>\n",
              "      <td>p</td>\n",
              "      <td>f</td>\n",
              "      <td>c</td>\n",
              "      <td>n</td>\n",
              "      <td>k</td>\n",
              "      <td>...</td>\n",
              "      <td>s</td>\n",
              "      <td>w</td>\n",
              "      <td>w</td>\n",
              "      <td>p</td>\n",
              "      <td>w</td>\n",
              "      <td>o</td>\n",
              "      <td>p</td>\n",
              "      <td>k</td>\n",
              "      <td>s</td>\n",
              "      <td>u</td>\n",
              "    </tr>\n",
              "    <tr>\n",
              "      <th>1</th>\n",
              "      <td>e</td>\n",
              "      <td>x</td>\n",
              "      <td>s</td>\n",
              "      <td>y</td>\n",
              "      <td>t</td>\n",
              "      <td>a</td>\n",
              "      <td>f</td>\n",
              "      <td>c</td>\n",
              "      <td>b</td>\n",
              "      <td>k</td>\n",
              "      <td>...</td>\n",
              "      <td>s</td>\n",
              "      <td>w</td>\n",
              "      <td>w</td>\n",
              "      <td>p</td>\n",
              "      <td>w</td>\n",
              "      <td>o</td>\n",
              "      <td>p</td>\n",
              "      <td>n</td>\n",
              "      <td>n</td>\n",
              "      <td>g</td>\n",
              "    </tr>\n",
              "    <tr>\n",
              "      <th>2</th>\n",
              "      <td>e</td>\n",
              "      <td>b</td>\n",
              "      <td>s</td>\n",
              "      <td>w</td>\n",
              "      <td>t</td>\n",
              "      <td>l</td>\n",
              "      <td>f</td>\n",
              "      <td>c</td>\n",
              "      <td>b</td>\n",
              "      <td>n</td>\n",
              "      <td>...</td>\n",
              "      <td>s</td>\n",
              "      <td>w</td>\n",
              "      <td>w</td>\n",
              "      <td>p</td>\n",
              "      <td>w</td>\n",
              "      <td>o</td>\n",
              "      <td>p</td>\n",
              "      <td>n</td>\n",
              "      <td>n</td>\n",
              "      <td>m</td>\n",
              "    </tr>\n",
              "    <tr>\n",
              "      <th>3</th>\n",
              "      <td>p</td>\n",
              "      <td>x</td>\n",
              "      <td>y</td>\n",
              "      <td>w</td>\n",
              "      <td>t</td>\n",
              "      <td>p</td>\n",
              "      <td>f</td>\n",
              "      <td>c</td>\n",
              "      <td>n</td>\n",
              "      <td>n</td>\n",
              "      <td>...</td>\n",
              "      <td>s</td>\n",
              "      <td>w</td>\n",
              "      <td>w</td>\n",
              "      <td>p</td>\n",
              "      <td>w</td>\n",
              "      <td>o</td>\n",
              "      <td>p</td>\n",
              "      <td>k</td>\n",
              "      <td>s</td>\n",
              "      <td>u</td>\n",
              "    </tr>\n",
              "    <tr>\n",
              "      <th>4</th>\n",
              "      <td>e</td>\n",
              "      <td>x</td>\n",
              "      <td>s</td>\n",
              "      <td>g</td>\n",
              "      <td>f</td>\n",
              "      <td>n</td>\n",
              "      <td>f</td>\n",
              "      <td>w</td>\n",
              "      <td>b</td>\n",
              "      <td>k</td>\n",
              "      <td>...</td>\n",
              "      <td>s</td>\n",
              "      <td>w</td>\n",
              "      <td>w</td>\n",
              "      <td>p</td>\n",
              "      <td>w</td>\n",
              "      <td>o</td>\n",
              "      <td>e</td>\n",
              "      <td>n</td>\n",
              "      <td>a</td>\n",
              "      <td>g</td>\n",
              "    </tr>\n",
              "  </tbody>\n",
              "</table>\n",
              "<p>5 rows × 23 columns</p>\n",
              "</div>\n",
              "      <button class=\"colab-df-convert\" onclick=\"convertToInteractive('df-89feb00f-e78f-4447-938f-b6fc8ef8e58a')\"\n",
              "              title=\"Convert this dataframe to an interactive table.\"\n",
              "              style=\"display:none;\">\n",
              "\n",
              "  <svg xmlns=\"http://www.w3.org/2000/svg\" height=\"24px\"viewBox=\"0 0 24 24\"\n",
              "       width=\"24px\">\n",
              "    <path d=\"M0 0h24v24H0V0z\" fill=\"none\"/>\n",
              "    <path d=\"M18.56 5.44l.94 2.06.94-2.06 2.06-.94-2.06-.94-.94-2.06-.94 2.06-2.06.94zm-11 1L8.5 8.5l.94-2.06 2.06-.94-2.06-.94L8.5 2.5l-.94 2.06-2.06.94zm10 10l.94 2.06.94-2.06 2.06-.94-2.06-.94-.94-2.06-.94 2.06-2.06.94z\"/><path d=\"M17.41 7.96l-1.37-1.37c-.4-.4-.92-.59-1.43-.59-.52 0-1.04.2-1.43.59L10.3 9.45l-7.72 7.72c-.78.78-.78 2.05 0 2.83L4 21.41c.39.39.9.59 1.41.59.51 0 1.02-.2 1.41-.59l7.78-7.78 2.81-2.81c.8-.78.8-2.07 0-2.86zM5.41 20L4 18.59l7.72-7.72 1.47 1.35L5.41 20z\"/>\n",
              "  </svg>\n",
              "      </button>\n",
              "\n",
              "\n",
              "\n",
              "    <div id=\"df-c79ef8a3-3110-4393-aaa2-c4f9a3844c95\">\n",
              "      <button class=\"colab-df-quickchart\" onclick=\"quickchart('df-c79ef8a3-3110-4393-aaa2-c4f9a3844c95')\"\n",
              "              title=\"Suggest charts.\"\n",
              "              style=\"display:none;\">\n",
              "\n",
              "<svg xmlns=\"http://www.w3.org/2000/svg\" height=\"24px\"viewBox=\"0 0 24 24\"\n",
              "     width=\"24px\">\n",
              "    <g>\n",
              "        <path d=\"M19 3H5c-1.1 0-2 .9-2 2v14c0 1.1.9 2 2 2h14c1.1 0 2-.9 2-2V5c0-1.1-.9-2-2-2zM9 17H7v-7h2v7zm4 0h-2V7h2v10zm4 0h-2v-4h2v4z\"/>\n",
              "    </g>\n",
              "</svg>\n",
              "      </button>\n",
              "    </div>\n",
              "\n",
              "<style>\n",
              "  .colab-df-quickchart {\n",
              "    background-color: #E8F0FE;\n",
              "    border: none;\n",
              "    border-radius: 50%;\n",
              "    cursor: pointer;\n",
              "    display: none;\n",
              "    fill: #1967D2;\n",
              "    height: 32px;\n",
              "    padding: 0 0 0 0;\n",
              "    width: 32px;\n",
              "  }\n",
              "\n",
              "  .colab-df-quickchart:hover {\n",
              "    background-color: #E2EBFA;\n",
              "    box-shadow: 0px 1px 2px rgba(60, 64, 67, 0.3), 0px 1px 3px 1px rgba(60, 64, 67, 0.15);\n",
              "    fill: #174EA6;\n",
              "  }\n",
              "\n",
              "  [theme=dark] .colab-df-quickchart {\n",
              "    background-color: #3B4455;\n",
              "    fill: #D2E3FC;\n",
              "  }\n",
              "\n",
              "  [theme=dark] .colab-df-quickchart:hover {\n",
              "    background-color: #434B5C;\n",
              "    box-shadow: 0px 1px 3px 1px rgba(0, 0, 0, 0.15);\n",
              "    filter: drop-shadow(0px 1px 2px rgba(0, 0, 0, 0.3));\n",
              "    fill: #FFFFFF;\n",
              "  }\n",
              "</style>\n",
              "\n",
              "    <script>\n",
              "      async function quickchart(key) {\n",
              "        const containerElement = document.querySelector('#' + key);\n",
              "        const charts = await google.colab.kernel.invokeFunction(\n",
              "            'suggestCharts', [key], {});\n",
              "      }\n",
              "    </script>\n",
              "\n",
              "      <script>\n",
              "\n",
              "function displayQuickchartButton(domScope) {\n",
              "  let quickchartButtonEl =\n",
              "    domScope.querySelector('#df-c79ef8a3-3110-4393-aaa2-c4f9a3844c95 button.colab-df-quickchart');\n",
              "  quickchartButtonEl.style.display =\n",
              "    google.colab.kernel.accessAllowed ? 'block' : 'none';\n",
              "}\n",
              "\n",
              "        displayQuickchartButton(document);\n",
              "      </script>\n",
              "      <style>\n",
              "    .colab-df-container {\n",
              "      display:flex;\n",
              "      flex-wrap:wrap;\n",
              "      gap: 12px;\n",
              "    }\n",
              "\n",
              "    .colab-df-convert {\n",
              "      background-color: #E8F0FE;\n",
              "      border: none;\n",
              "      border-radius: 50%;\n",
              "      cursor: pointer;\n",
              "      display: none;\n",
              "      fill: #1967D2;\n",
              "      height: 32px;\n",
              "      padding: 0 0 0 0;\n",
              "      width: 32px;\n",
              "    }\n",
              "\n",
              "    .colab-df-convert:hover {\n",
              "      background-color: #E2EBFA;\n",
              "      box-shadow: 0px 1px 2px rgba(60, 64, 67, 0.3), 0px 1px 3px 1px rgba(60, 64, 67, 0.15);\n",
              "      fill: #174EA6;\n",
              "    }\n",
              "\n",
              "    [theme=dark] .colab-df-convert {\n",
              "      background-color: #3B4455;\n",
              "      fill: #D2E3FC;\n",
              "    }\n",
              "\n",
              "    [theme=dark] .colab-df-convert:hover {\n",
              "      background-color: #434B5C;\n",
              "      box-shadow: 0px 1px 3px 1px rgba(0, 0, 0, 0.15);\n",
              "      filter: drop-shadow(0px 1px 2px rgba(0, 0, 0, 0.3));\n",
              "      fill: #FFFFFF;\n",
              "    }\n",
              "  </style>\n",
              "\n",
              "      <script>\n",
              "        const buttonEl =\n",
              "          document.querySelector('#df-89feb00f-e78f-4447-938f-b6fc8ef8e58a button.colab-df-convert');\n",
              "        buttonEl.style.display =\n",
              "          google.colab.kernel.accessAllowed ? 'block' : 'none';\n",
              "\n",
              "        async function convertToInteractive(key) {\n",
              "          const element = document.querySelector('#df-89feb00f-e78f-4447-938f-b6fc8ef8e58a');\n",
              "          const dataTable =\n",
              "            await google.colab.kernel.invokeFunction('convertToInteractive',\n",
              "                                                     [key], {});\n",
              "          if (!dataTable) return;\n",
              "\n",
              "          const docLinkHtml = 'Like what you see? Visit the ' +\n",
              "            '<a target=\"_blank\" href=https://colab.research.google.com/notebooks/data_table.ipynb>data table notebook</a>'\n",
              "            + ' to learn more about interactive tables.';\n",
              "          element.innerHTML = '';\n",
              "          dataTable['output_type'] = 'display_data';\n",
              "          await google.colab.output.renderOutput(dataTable, element);\n",
              "          const docLink = document.createElement('div');\n",
              "          docLink.innerHTML = docLinkHtml;\n",
              "          element.appendChild(docLink);\n",
              "        }\n",
              "      </script>\n",
              "    </div>\n",
              "  </div>\n"
            ]
          },
          "metadata": {},
          "execution_count": 4
        }
      ]
    },
    {
      "cell_type": "code",
      "source": [
        "# encoding\n",
        "from sklearn.preprocessing import LabelEncoder\n",
        "labelencoder=LabelEncoder()\n",
        "for column in mushrooms.columns:\n",
        "    mushrooms[column] = labelencoder.fit_transform(mushrooms[column])"
      ],
      "metadata": {
        "id": "-eC7BzLLpTqP"
      },
      "execution_count": 6,
      "outputs": []
    },
    {
      "cell_type": "code",
      "source": [
        "# Separating features and labels\n",
        "x = mushrooms.drop([\"class\"],axis=1) #features\n",
        "y = mushrooms[\"class\"].values # labels"
      ],
      "metadata": {
        "id": "T2RhoSkyryDO"
      },
      "execution_count": 7,
      "outputs": []
    },
    {
      "cell_type": "code",
      "source": [
        "# split train and test data\n",
        "from sklearn.model_selection import train_test_split\n",
        "x_train, x_rem, y_train, y_rem = train_test_split(x,y,test_size = 0.3,random_state=1)\n",
        "x_val, x_test, y_val, y_test = train_test_split(x_rem, y_rem, test_size=0.5, random_state = 1)"
      ],
      "metadata": {
        "id": "mn0zMDYHsBAf"
      },
      "execution_count": 8,
      "outputs": []
    },
    {
      "cell_type": "code",
      "source": [
        "from tensorflow.keras import Sequential\n",
        "from tensorflow.keras.layers import Dense"
      ],
      "metadata": {
        "id": "OuwUiIVpsyJn"
      },
      "execution_count": 9,
      "outputs": []
    },
    {
      "cell_type": "code",
      "source": [
        "# Plot loss function\n",
        "\n",
        "def plotter(tr_model):\n",
        "  plt.plot(tr_model.history['accuracy'], color = \"blue\", label = \"train\")\n",
        "  plt.plot(tr_model.history['val_accuracy'], color = \"red\", label = \"validation\")\n",
        "\n",
        "  plt.title(\"Learning curves\")\n",
        "  plt.ylabel(\"Accuracy\")\n",
        "  plt.xlabel(\"Number of epochs\")\n",
        "  plt.grid()\n",
        "  plt.legend()\n",
        "  plt.show()"
      ],
      "metadata": {
        "id": "uZJDVOIntdee"
      },
      "execution_count": 10,
      "outputs": []
    },
    {
      "cell_type": "code",
      "source": [
        "# verify shapes are correct\n",
        "x_train.shape"
      ],
      "metadata": {
        "colab": {
          "base_uri": "https://localhost:8080/"
        },
        "id": "qxK-aCRLw233",
        "outputId": "a34ccaf3-cd18-4e8c-f6fb-0f938762056f"
      },
      "execution_count": 15,
      "outputs": [
        {
          "output_type": "execute_result",
          "data": {
            "text/plain": [
              "(5686, 22)"
            ]
          },
          "metadata": {},
          "execution_count": 15
        }
      ]
    },
    {
      "cell_type": "code",
      "source": [
        "#Build ANN model\n",
        "import time\n",
        "\n",
        "model = Sequential()\n",
        "\n",
        "model.add(Dense(8, activation = 'relu', input_dim = x_train.shape[1]))\n",
        "model.add(Dense(8, activation = 'relu'))\n",
        "model.add(Dense(units = 1, activation = 'sigmoid'))\n",
        "\n",
        "model.summary()\n",
        "\n",
        "model.compile(loss = \"binary_crossentropy\", optimizer = \"adam\", metrics = [\"accuracy\"])\n",
        "start = time.time()\n",
        "trained_model = model.fit(x_train, y_train, epochs = 50, batch_size = 16, validation_data = (x_val, y_val), verbose=1)\n",
        "end = time.time()\n",
        "num_mins = (end-start)/60\n",
        "print(\"Total training time: \"  + str(num_mins) + \" minutes.\")\n",
        "plotter(trained_model)"
      ],
      "metadata": {
        "colab": {
          "base_uri": "https://localhost:8080/",
          "height": 1000
        },
        "id": "sXQ6hXBAwOZ6",
        "outputId": "fccebd92-cebf-49c0-ae96-2ef9cd99f86c"
      },
      "execution_count": 16,
      "outputs": [
        {
          "output_type": "stream",
          "name": "stdout",
          "text": [
            "Model: \"sequential\"\n",
            "_________________________________________________________________\n",
            " Layer (type)                Output Shape              Param #   \n",
            "=================================================================\n",
            " dense (Dense)               (None, 8)                 184       \n",
            "                                                                 \n",
            " dense_1 (Dense)             (None, 8)                 72        \n",
            "                                                                 \n",
            " dense_2 (Dense)             (None, 1)                 9         \n",
            "                                                                 \n",
            "=================================================================\n",
            "Total params: 265\n",
            "Trainable params: 265\n",
            "Non-trainable params: 0\n",
            "_________________________________________________________________\n",
            "Epoch 1/50\n",
            "356/356 [==============================] - 4s 6ms/step - loss: 0.5947 - accuracy: 0.6764 - val_loss: 0.4463 - val_accuracy: 0.8089\n",
            "Epoch 2/50\n",
            "356/356 [==============================] - 1s 3ms/step - loss: 0.3636 - accuracy: 0.8531 - val_loss: 0.3000 - val_accuracy: 0.8884\n",
            "Epoch 3/50\n",
            "356/356 [==============================] - 1s 3ms/step - loss: 0.2723 - accuracy: 0.8890 - val_loss: 0.2463 - val_accuracy: 0.8999\n",
            "Epoch 4/50\n",
            "356/356 [==============================] - 1s 3ms/step - loss: 0.2355 - accuracy: 0.9036 - val_loss: 0.2143 - val_accuracy: 0.9147\n",
            "Epoch 5/50\n",
            "356/356 [==============================] - 1s 3ms/step - loss: 0.2081 - accuracy: 0.9159 - val_loss: 0.2093 - val_accuracy: 0.9319\n",
            "Epoch 6/50\n",
            "356/356 [==============================] - 1s 3ms/step - loss: 0.1831 - accuracy: 0.9281 - val_loss: 0.1672 - val_accuracy: 0.9409\n",
            "Epoch 7/50\n",
            "356/356 [==============================] - 1s 3ms/step - loss: 0.1598 - accuracy: 0.9414 - val_loss: 0.1512 - val_accuracy: 0.9500\n",
            "Epoch 8/50\n",
            "356/356 [==============================] - 1s 3ms/step - loss: 0.1410 - accuracy: 0.9515 - val_loss: 0.1350 - val_accuracy: 0.9639\n",
            "Epoch 9/50\n",
            "356/356 [==============================] - 1s 3ms/step - loss: 0.1236 - accuracy: 0.9624 - val_loss: 0.1264 - val_accuracy: 0.9664\n",
            "Epoch 10/50\n",
            "356/356 [==============================] - 1s 3ms/step - loss: 0.1106 - accuracy: 0.9664 - val_loss: 0.1134 - val_accuracy: 0.9705\n",
            "Epoch 11/50\n",
            "356/356 [==============================] - 2s 5ms/step - loss: 0.1007 - accuracy: 0.9724 - val_loss: 0.1032 - val_accuracy: 0.9746\n",
            "Epoch 12/50\n",
            "356/356 [==============================] - 1s 4ms/step - loss: 0.0910 - accuracy: 0.9740 - val_loss: 0.0934 - val_accuracy: 0.9729\n",
            "Epoch 13/50\n",
            "356/356 [==============================] - 2s 5ms/step - loss: 0.0834 - accuracy: 0.9741 - val_loss: 0.0860 - val_accuracy: 0.9713\n",
            "Epoch 14/50\n",
            "356/356 [==============================] - 2s 6ms/step - loss: 0.0744 - accuracy: 0.9757 - val_loss: 0.0769 - val_accuracy: 0.9746\n",
            "Epoch 15/50\n",
            "356/356 [==============================] - 1s 3ms/step - loss: 0.0674 - accuracy: 0.9787 - val_loss: 0.0677 - val_accuracy: 0.9737\n",
            "Epoch 16/50\n",
            "356/356 [==============================] - 1s 3ms/step - loss: 0.0604 - accuracy: 0.9794 - val_loss: 0.0628 - val_accuracy: 0.9754\n",
            "Epoch 17/50\n",
            "356/356 [==============================] - 1s 3ms/step - loss: 0.0537 - accuracy: 0.9808 - val_loss: 0.0574 - val_accuracy: 0.9779\n",
            "Epoch 18/50\n",
            "356/356 [==============================] - 1s 3ms/step - loss: 0.0487 - accuracy: 0.9824 - val_loss: 0.0523 - val_accuracy: 0.9811\n",
            "Epoch 19/50\n",
            "356/356 [==============================] - 1s 3ms/step - loss: 0.0435 - accuracy: 0.9851 - val_loss: 0.0457 - val_accuracy: 0.9861\n",
            "Epoch 20/50\n",
            "356/356 [==============================] - 2s 4ms/step - loss: 0.0389 - accuracy: 0.9861 - val_loss: 0.0432 - val_accuracy: 0.9877\n",
            "Epoch 21/50\n",
            "356/356 [==============================] - 1s 4ms/step - loss: 0.0362 - accuracy: 0.9875 - val_loss: 0.0373 - val_accuracy: 0.9877\n",
            "Epoch 22/50\n",
            "356/356 [==============================] - 1s 3ms/step - loss: 0.0320 - accuracy: 0.9902 - val_loss: 0.0349 - val_accuracy: 0.9877\n",
            "Epoch 23/50\n",
            "356/356 [==============================] - 1s 3ms/step - loss: 0.0279 - accuracy: 0.9912 - val_loss: 0.0321 - val_accuracy: 0.9893\n",
            "Epoch 24/50\n",
            "356/356 [==============================] - 1s 3ms/step - loss: 0.0253 - accuracy: 0.9926 - val_loss: 0.0296 - val_accuracy: 0.9902\n",
            "Epoch 25/50\n",
            "356/356 [==============================] - 1s 3ms/step - loss: 0.0249 - accuracy: 0.9919 - val_loss: 0.0249 - val_accuracy: 0.9918\n",
            "Epoch 26/50\n",
            "356/356 [==============================] - 1s 3ms/step - loss: 0.0210 - accuracy: 0.9944 - val_loss: 0.0287 - val_accuracy: 0.9926\n",
            "Epoch 27/50\n",
            "356/356 [==============================] - 1s 3ms/step - loss: 0.0189 - accuracy: 0.9951 - val_loss: 0.0209 - val_accuracy: 0.9934\n",
            "Epoch 28/50\n",
            "356/356 [==============================] - 1s 3ms/step - loss: 0.0176 - accuracy: 0.9960 - val_loss: 0.0201 - val_accuracy: 0.9943\n",
            "Epoch 29/50\n",
            "356/356 [==============================] - 1s 3ms/step - loss: 0.0155 - accuracy: 0.9961 - val_loss: 0.0210 - val_accuracy: 0.9934\n",
            "Epoch 30/50\n",
            "356/356 [==============================] - 1s 4ms/step - loss: 0.0135 - accuracy: 0.9967 - val_loss: 0.0152 - val_accuracy: 0.9951\n",
            "Epoch 31/50\n",
            "356/356 [==============================] - 2s 5ms/step - loss: 0.0128 - accuracy: 0.9967 - val_loss: 0.0154 - val_accuracy: 0.9975\n",
            "Epoch 32/50\n",
            "356/356 [==============================] - 1s 3ms/step - loss: 0.0108 - accuracy: 0.9974 - val_loss: 0.0125 - val_accuracy: 0.9959\n",
            "Epoch 33/50\n",
            "356/356 [==============================] - 1s 3ms/step - loss: 0.0095 - accuracy: 0.9981 - val_loss: 0.0116 - val_accuracy: 0.9951\n",
            "Epoch 34/50\n",
            "356/356 [==============================] - 1s 3ms/step - loss: 0.0085 - accuracy: 0.9984 - val_loss: 0.0094 - val_accuracy: 0.9984\n",
            "Epoch 35/50\n",
            "356/356 [==============================] - 1s 3ms/step - loss: 0.0076 - accuracy: 0.9986 - val_loss: 0.0080 - val_accuracy: 0.9984\n",
            "Epoch 36/50\n",
            "356/356 [==============================] - 1s 3ms/step - loss: 0.0068 - accuracy: 0.9989 - val_loss: 0.0069 - val_accuracy: 0.9984\n",
            "Epoch 37/50\n",
            "356/356 [==============================] - 1s 3ms/step - loss: 0.0063 - accuracy: 0.9993 - val_loss: 0.0072 - val_accuracy: 0.9984\n",
            "Epoch 38/50\n",
            "356/356 [==============================] - 1s 3ms/step - loss: 0.0059 - accuracy: 0.9991 - val_loss: 0.0057 - val_accuracy: 0.9984\n",
            "Epoch 39/50\n",
            "356/356 [==============================] - 1s 3ms/step - loss: 0.0043 - accuracy: 0.9995 - val_loss: 0.0071 - val_accuracy: 0.9975\n",
            "Epoch 40/50\n",
            "356/356 [==============================] - 1s 3ms/step - loss: 0.0048 - accuracy: 0.9989 - val_loss: 0.0066 - val_accuracy: 0.9975\n",
            "Epoch 41/50\n",
            "356/356 [==============================] - 2s 4ms/step - loss: 0.0035 - accuracy: 0.9998 - val_loss: 0.0056 - val_accuracy: 1.0000\n",
            "Epoch 42/50\n",
            "356/356 [==============================] - 2s 5ms/step - loss: 0.0036 - accuracy: 0.9995 - val_loss: 0.0029 - val_accuracy: 0.9992\n",
            "Epoch 43/50\n",
            "356/356 [==============================] - 1s 3ms/step - loss: 0.0030 - accuracy: 0.9993 - val_loss: 0.0038 - val_accuracy: 1.0000\n",
            "Epoch 44/50\n",
            "356/356 [==============================] - 1s 3ms/step - loss: 0.0024 - accuracy: 0.9995 - val_loss: 0.0034 - val_accuracy: 0.9984\n",
            "Epoch 45/50\n",
            "356/356 [==============================] - 1s 3ms/step - loss: 0.0025 - accuracy: 0.9998 - val_loss: 0.0019 - val_accuracy: 1.0000\n",
            "Epoch 46/50\n",
            "356/356 [==============================] - 1s 3ms/step - loss: 0.0021 - accuracy: 0.9996 - val_loss: 0.0018 - val_accuracy: 1.0000\n",
            "Epoch 47/50\n",
            "356/356 [==============================] - 1s 3ms/step - loss: 0.0018 - accuracy: 0.9998 - val_loss: 0.0032 - val_accuracy: 0.9984\n",
            "Epoch 48/50\n",
            "356/356 [==============================] - 1s 3ms/step - loss: 0.0018 - accuracy: 0.9998 - val_loss: 0.0026 - val_accuracy: 0.9992\n",
            "Epoch 49/50\n",
            "356/356 [==============================] - 1s 3ms/step - loss: 0.0013 - accuracy: 1.0000 - val_loss: 0.0011 - val_accuracy: 1.0000\n",
            "Epoch 50/50\n",
            "356/356 [==============================] - 1s 3ms/step - loss: 0.0018 - accuracy: 0.9998 - val_loss: 0.0017 - val_accuracy: 0.9992\n",
            "Total training time: 1.3936918735504151 minutes.\n"
          ]
        },
        {
          "output_type": "display_data",
          "data": {
            "text/plain": [
              "<Figure size 640x480 with 1 Axes>"
            ],
            "image/png": "[encoded data removed]"
          },
          "metadata": {}
        }
      ]
    },
    {
      "cell_type": "code",
      "source": [
        "# Evaluate the model\n",
        "score = model.evaluate(x_test, y_test, verbose = 0)\n",
        "print(\"Test loss: %.4f\" % score[0])\n",
        "print(\"Test accuracy: %.2f\" % (score[1] * 100.0))"
      ],
      "metadata": {
        "colab": {
          "base_uri": "https://localhost:8080/"
        },
        "id": "6DbP90ECzGej",
        "outputId": "9e8edbf2-c088-4ba8-fad7-e21d0dbe37b3"
      },
      "execution_count": 18,
      "outputs": [
        {
          "output_type": "stream",
          "name": "stdout",
          "text": [
            "Test loss: 0.0020\n",
            "Test accuracy: 99.92\n"
          ]
        }
      ]
    },
    {
      "cell_type": "code",
      "source": [
        "model.predict(x_test)"
      ],
      "metadata": {
        "colab": {
          "base_uri": "https://localhost:8080/"
        },
        "id": "DbZu2G9p3fxQ",
        "outputId": "8b30d4cc-4393-4a9c-ffa5-5edcc684c95a"
      },
      "execution_count": 24,
      "outputs": [
        {
          "output_type": "stream",
          "name": "stdout",
          "text": [
            "39/39 [==============================] - 0s 4ms/step\n"
          ]
        },
        {
          "output_type": "execute_result",
          "data": {
            "text/plain": [
              "array([[0.9999104 ],\n",
              "       [0.9999573 ],\n",
              "       [0.99999905],\n",
              "       ...,\n",
              "       [1.        ],\n",
              "       [1.        ],\n",
              "       [0.9999461 ]], dtype=float32)"
            ]
          },
          "metadata": {},
          "execution_count": 24
        }
      ]
    },
    {
      "cell_type": "code",
      "source": [
        "# Create a function which takes a model and prints various evaluation metrics\n",
        "\n",
        "import seaborn as sns\n",
        "from sklearn import metrics\n",
        "\n",
        "def evaluate(mlp, titlemsg):\n",
        "  y_predicted = mlp.predict(x_test)\n",
        "  y_predicted = y_predicted > 0.5\n",
        "  mat = metrics.confusion_matrix(y_test, y_predicted)\n",
        "  sns.heatmap(mat.T, square = True, annot = True, fmt = 'd', cbar = False)\n",
        "  plt.xlabel(\"True label\")\n",
        "  plt.ylabel(\"Predicted label\")\n",
        "  plt.title(titlemsg)"
      ],
      "metadata": {
        "id": "dbzkK1XWz7BU"
      },
      "execution_count": 25,
      "outputs": []
    },
    {
      "cell_type": "code",
      "source": [
        "evaluate(model, \"Artificial Neural Network\")"
      ],
      "metadata": {
        "colab": {
          "base_uri": "https://localhost:8080/",
          "height": 489
        },
        "id": "Ik9UKhsG1ad3",
        "outputId": "5670d15c-e786-4cbc-a275-e26da7a8f3f5"
      },
      "execution_count": 26,
      "outputs": [
        {
          "output_type": "stream",
          "name": "stdout",
          "text": [
            "39/39 [==============================] - 0s 2ms/step\n"
          ]
        },
        {
          "output_type": "display_data",
          "data": {
            "text/plain": [
              "<Figure size 640x480 with 1 Axes>"
            ],
            "image/png": "[encoded data removed]"
          },
          "metadata": {}
        }
      ]
    },
    {
      "cell_type": "code",
      "source": [],
      "metadata": {
        "id": "-Towp6bv2Vjq"
      },
      "execution_count": null,
      "outputs": []
    }
  ]
}